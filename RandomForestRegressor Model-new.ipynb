{
 "cells": [
  {
   "cell_type": "code",
   "execution_count": 1,
   "id": "15a33aaa",
   "metadata": {},
   "outputs": [],
   "source": [
    "import pandas as pd\n",
    "import matplotlib.pyplot as plt\n",
    "from sklearn.model_selection import train_test_split\n",
    "from sklearn.ensemble import RandomForestRegressor\n",
    "from sklearn.metrics import mean_squared_error, mean_absolute_error\n",
    "from sklearn.preprocessing import StandardScaler, LabelEncoder"
   ]
  },
  {
   "cell_type": "code",
   "execution_count": 2,
   "id": "611fdc3e",
   "metadata": {},
   "outputs": [],
   "source": [
    "df = pd.read_csv('Financial Generated Data 6.csv')"
   ]
  },
  {
   "cell_type": "code",
   "execution_count": 3,
   "id": "305ff464",
   "metadata": {},
   "outputs": [],
   "source": [
    "df.drop(['fin_purch_id','fin_file_id','fin_purch_id_format','fin_trans_file_load_dt','fin_trans_ref_num'],axis=1,inplace=True)"
   ]
  },
  {
   "cell_type": "code",
   "execution_count": 4,
   "id": "483284b8",
   "metadata": {},
   "outputs": [
    {
     "name": "stderr",
     "output_type": "stream",
     "text": [
      "D:\\Users\\vtpavithra\\AppData\\Local\\Temp\\ipykernel_13620\\187654700.py:1: UserWarning: Could not infer format, so each element will be parsed individually, falling back to `dateutil`. To ensure parsing is consistent and as-expected, please specify a format.\n",
      "  df['fin_date'] = pd.to_datetime(df['fin_trans_dt'],dayfirst=True)\n"
     ]
    }
   ],
   "source": [
    "df['fin_date'] = pd.to_datetime(df['fin_trans_dt'],dayfirst=True)"
   ]
  },
  {
   "cell_type": "code",
   "execution_count": 5,
   "id": "217ba7ca",
   "metadata": {},
   "outputs": [],
   "source": [
    "df.drop('fin_trans_dt',axis=1,inplace=True)"
   ]
  },
  {
   "cell_type": "code",
   "execution_count": 6,
   "id": "f85a8a9b",
   "metadata": {},
   "outputs": [],
   "source": [
    "# Encode categorical variables\n",
    "label_encoder = LabelEncoder()\n",
    "df['fin_company_id '] = label_encoder.fit_transform(df['fin_company_id '])\n",
    "# Assuming fin_date is in datetime format, extract month\n",
    "df['fin_month'] = df['fin_date'].dt.month"
   ]
  },
  {
   "cell_type": "code",
   "execution_count": 42,
   "id": "cffa693b",
   "metadata": {},
   "outputs": [],
   "source": [
    "label_encoder = LabelEncoder()\n",
    "df['fin_acct_num (masked)'] = label_encoder.fit_transform(df['fin_acct_num (masked)'])"
   ]
  },
  {
   "cell_type": "code",
   "execution_count": 43,
   "id": "0db4a9ea",
   "metadata": {},
   "outputs": [],
   "source": [
    "# label:Company_id\n",
    "#     0-1608\n",
    "#     1-1905\n",
    "#     2-2077\n",
    "#     3-2605\n",
    "#     4-3209\n",
    "#     5-3780\n",
    "#     6-5805\n",
    "#     7-7300\n",
    "#     8-7448\n",
    "#     9-8424"
   ]
  },
  {
   "cell_type": "code",
   "execution_count": 44,
   "id": "d2dcf6f6",
   "metadata": {},
   "outputs": [],
   "source": [
    "df['count_of_transactions'] = df.groupby(['fin_company_id ', 'fin_month'])['fin_source_amt '].transform('count')"
   ]
  },
  {
   "cell_type": "code",
   "execution_count": 45,
   "id": "7f053eb0",
   "metadata": {},
   "outputs": [
    {
     "data": {
      "text/html": [
       "<div>\n",
       "<style scoped>\n",
       "    .dataframe tbody tr th:only-of-type {\n",
       "        vertical-align: middle;\n",
       "    }\n",
       "\n",
       "    .dataframe tbody tr th {\n",
       "        vertical-align: top;\n",
       "    }\n",
       "\n",
       "    .dataframe thead th {\n",
       "        text-align: right;\n",
       "    }\n",
       "</style>\n",
       "<table border=\"1\" class=\"dataframe\">\n",
       "  <thead>\n",
       "    <tr style=\"text-align: right;\">\n",
       "      <th></th>\n",
       "      <th>fin_record_key</th>\n",
       "      <th>fin_acct_num (masked)</th>\n",
       "      <th>fin_orig_supplier_nm</th>\n",
       "      <th>fin_debit_credit_ind</th>\n",
       "      <th>fin_ticket_num</th>\n",
       "      <th>fin_source_amt</th>\n",
       "      <th>fin_auth_nbr</th>\n",
       "      <th>fin_region_id</th>\n",
       "      <th>fin_processor_id</th>\n",
       "      <th>fin_member_bank_id</th>\n",
       "      <th>...</th>\n",
       "      <th>fin_billing_curr_cd</th>\n",
       "      <th>fin_billing_period</th>\n",
       "      <th>fin_card</th>\n",
       "      <th>fin_comm_file_id</th>\n",
       "      <th>fin_merch__catg_cd</th>\n",
       "      <th>issuer_id and Name</th>\n",
       "      <th>company_id and name</th>\n",
       "      <th>fin_date</th>\n",
       "      <th>fin_month</th>\n",
       "      <th>count_of_transactions</th>\n",
       "    </tr>\n",
       "  </thead>\n",
       "  <tbody>\n",
       "    <tr>\n",
       "      <th>0</th>\n",
       "      <td>6543929</td>\n",
       "      <td>1</td>\n",
       "      <td>AIR MTWNL 9301356266</td>\n",
       "      <td>C</td>\n",
       "      <td>2480309245</td>\n",
       "      <td>176.02</td>\n",
       "      <td>A31554</td>\n",
       "      <td>2</td>\n",
       "      <td>12</td>\n",
       "      <td>10031000</td>\n",
       "      <td>...</td>\n",
       "      <td>411</td>\n",
       "      <td>8028</td>\n",
       "      <td>11</td>\n",
       "      <td>33001</td>\n",
       "      <td>3009</td>\n",
       "      <td>2280- Bank of Nova</td>\n",
       "      <td>3174- JD IRIVINGCAD CTA</td>\n",
       "      <td>2019-09-14</td>\n",
       "      <td>9</td>\n",
       "      <td>227</td>\n",
       "    </tr>\n",
       "    <tr>\n",
       "      <th>1</th>\n",
       "      <td>5326021</td>\n",
       "      <td>0</td>\n",
       "      <td>AIR MTWNL 7061806632</td>\n",
       "      <td>D</td>\n",
       "      <td>8023199319</td>\n",
       "      <td>530.97</td>\n",
       "      <td>A50694</td>\n",
       "      <td>2</td>\n",
       "      <td>12</td>\n",
       "      <td>10031000</td>\n",
       "      <td>...</td>\n",
       "      <td>411</td>\n",
       "      <td>8028</td>\n",
       "      <td>11</td>\n",
       "      <td>33001</td>\n",
       "      <td>3009</td>\n",
       "      <td>2280- Bank of Nova</td>\n",
       "      <td>3174- JD IRIVINGCAD CTA</td>\n",
       "      <td>2019-01-15</td>\n",
       "      <td>1</td>\n",
       "      <td>258</td>\n",
       "    </tr>\n",
       "    <tr>\n",
       "      <th>2</th>\n",
       "      <td>8680562</td>\n",
       "      <td>0</td>\n",
       "      <td>AIR MTWNL 6293640810</td>\n",
       "      <td>C</td>\n",
       "      <td>1379093762</td>\n",
       "      <td>649.68</td>\n",
       "      <td>A82579</td>\n",
       "      <td>2</td>\n",
       "      <td>12</td>\n",
       "      <td>10031000</td>\n",
       "      <td>...</td>\n",
       "      <td>411</td>\n",
       "      <td>8028</td>\n",
       "      <td>11</td>\n",
       "      <td>33001</td>\n",
       "      <td>3009</td>\n",
       "      <td>2280- Bank of Nova</td>\n",
       "      <td>3174- JD IRIVINGCAD CTA</td>\n",
       "      <td>2015-03-08</td>\n",
       "      <td>3</td>\n",
       "      <td>275</td>\n",
       "    </tr>\n",
       "    <tr>\n",
       "      <th>3</th>\n",
       "      <td>3695360</td>\n",
       "      <td>2</td>\n",
       "      <td>AIR MTWNL 1692906802</td>\n",
       "      <td>C</td>\n",
       "      <td>5042770152</td>\n",
       "      <td>631.49</td>\n",
       "      <td>A93005</td>\n",
       "      <td>2</td>\n",
       "      <td>12</td>\n",
       "      <td>10031000</td>\n",
       "      <td>...</td>\n",
       "      <td>411</td>\n",
       "      <td>8028</td>\n",
       "      <td>11</td>\n",
       "      <td>33001</td>\n",
       "      <td>3009</td>\n",
       "      <td>2280- Bank of Nova</td>\n",
       "      <td>3174- JD IRIVINGCAD CTA</td>\n",
       "      <td>2023-07-24</td>\n",
       "      <td>7</td>\n",
       "      <td>258</td>\n",
       "    </tr>\n",
       "    <tr>\n",
       "      <th>4</th>\n",
       "      <td>7854310</td>\n",
       "      <td>2</td>\n",
       "      <td>AIR MTWNL 8675039355</td>\n",
       "      <td>C</td>\n",
       "      <td>5128592459</td>\n",
       "      <td>477.48</td>\n",
       "      <td>A29352</td>\n",
       "      <td>2</td>\n",
       "      <td>12</td>\n",
       "      <td>10031000</td>\n",
       "      <td>...</td>\n",
       "      <td>411</td>\n",
       "      <td>8028</td>\n",
       "      <td>11</td>\n",
       "      <td>33001</td>\n",
       "      <td>3009</td>\n",
       "      <td>2280- Bank of Nova</td>\n",
       "      <td>3174- JD IRIVINGCAD CTA</td>\n",
       "      <td>2017-02-10</td>\n",
       "      <td>2</td>\n",
       "      <td>255</td>\n",
       "    </tr>\n",
       "  </tbody>\n",
       "</table>\n",
       "<p>5 rows × 30 columns</p>\n",
       "</div>"
      ],
      "text/plain": [
       "   fin_record_key  fin_acct_num (masked)  fin_orig_supplier_nm  \\\n",
       "0         6543929                      1  AIR MTWNL 9301356266   \n",
       "1         5326021                      0  AIR MTWNL 7061806632   \n",
       "2         8680562                      0  AIR MTWNL 6293640810   \n",
       "3         3695360                      2  AIR MTWNL 1692906802   \n",
       "4         7854310                      2  AIR MTWNL 8675039355   \n",
       "\n",
       "  fin_debit_credit_ind  fin_ticket_num  fin_source_amt  fin_auth_nbr  \\\n",
       "0                    C      2480309245           176.02       A31554   \n",
       "1                    D      8023199319           530.97       A50694   \n",
       "2                    C      1379093762           649.68       A82579   \n",
       "3                    C      5042770152           631.49       A93005   \n",
       "4                    C      5128592459           477.48       A29352   \n",
       "\n",
       "   fin_region_id  fin_processor_id   fin_member_bank_id  ...  \\\n",
       "0              2                 12            10031000  ...   \n",
       "1              2                 12            10031000  ...   \n",
       "2              2                 12            10031000  ...   \n",
       "3              2                 12            10031000  ...   \n",
       "4              2                 12            10031000  ...   \n",
       "\n",
       "  fin_billing_curr_cd  fin_billing_period  fin_card fin_comm_file_id  \\\n",
       "0                 411                8028        11            33001   \n",
       "1                 411                8028        11            33001   \n",
       "2                 411                8028        11            33001   \n",
       "3                 411                8028        11            33001   \n",
       "4                 411                8028        11            33001   \n",
       "\n",
       "   fin_merch__catg_cd  issuer_id and Name      company_id and name   fin_date  \\\n",
       "0                3009  2280- Bank of Nova  3174- JD IRIVINGCAD CTA 2019-09-14   \n",
       "1                3009  2280- Bank of Nova  3174- JD IRIVINGCAD CTA 2019-01-15   \n",
       "2                3009  2280- Bank of Nova  3174- JD IRIVINGCAD CTA 2015-03-08   \n",
       "3                3009  2280- Bank of Nova  3174- JD IRIVINGCAD CTA 2023-07-24   \n",
       "4                3009  2280- Bank of Nova  3174- JD IRIVINGCAD CTA 2017-02-10   \n",
       "\n",
       "  fin_month  count_of_transactions  \n",
       "0         9                    227  \n",
       "1         1                    258  \n",
       "2         3                    275  \n",
       "3         7                    258  \n",
       "4         2                    255  \n",
       "\n",
       "[5 rows x 30 columns]"
      ]
     },
     "execution_count": 45,
     "metadata": {},
     "output_type": "execute_result"
    }
   ],
   "source": [
    "df.head()"
   ]
  },
  {
   "cell_type": "code",
   "execution_count": 46,
   "id": "561b97b1",
   "metadata": {},
   "outputs": [],
   "source": [
    "X = df[['fin_company_id ','fin_acct_num (masked)', 'fin_month']]\n",
    "y = df['count_of_transactions']"
   ]
  },
  {
   "cell_type": "code",
   "execution_count": 47,
   "id": "eee0293d",
   "metadata": {},
   "outputs": [],
   "source": [
    "X_train, X_test, y_train, y_test = train_test_split(X, y, test_size=0.3, random_state=42)"
   ]
  },
  {
   "cell_type": "code",
   "execution_count": 48,
   "id": "d54b32e6",
   "metadata": {},
   "outputs": [],
   "source": [
    "scaler = StandardScaler()\n",
    "X_train_scaled = scaler.fit_transform(X_train)\n",
    "X_test_scaled = scaler.transform(X_test)"
   ]
  },
  {
   "cell_type": "code",
   "execution_count": 49,
   "id": "e3d8eb9f",
   "metadata": {},
   "outputs": [
    {
     "data": {
      "text/html": [
       "<style>#sk-container-id-4 {color: black;}#sk-container-id-4 pre{padding: 0;}#sk-container-id-4 div.sk-toggleable {background-color: white;}#sk-container-id-4 label.sk-toggleable__label {cursor: pointer;display: block;width: 100%;margin-bottom: 0;padding: 0.3em;box-sizing: border-box;text-align: center;}#sk-container-id-4 label.sk-toggleable__label-arrow:before {content: \"▸\";float: left;margin-right: 0.25em;color: #696969;}#sk-container-id-4 label.sk-toggleable__label-arrow:hover:before {color: black;}#sk-container-id-4 div.sk-estimator:hover label.sk-toggleable__label-arrow:before {color: black;}#sk-container-id-4 div.sk-toggleable__content {max-height: 0;max-width: 0;overflow: hidden;text-align: left;background-color: #f0f8ff;}#sk-container-id-4 div.sk-toggleable__content pre {margin: 0.2em;color: black;border-radius: 0.25em;background-color: #f0f8ff;}#sk-container-id-4 input.sk-toggleable__control:checked~div.sk-toggleable__content {max-height: 200px;max-width: 100%;overflow: auto;}#sk-container-id-4 input.sk-toggleable__control:checked~label.sk-toggleable__label-arrow:before {content: \"▾\";}#sk-container-id-4 div.sk-estimator input.sk-toggleable__control:checked~label.sk-toggleable__label {background-color: #d4ebff;}#sk-container-id-4 div.sk-label input.sk-toggleable__control:checked~label.sk-toggleable__label {background-color: #d4ebff;}#sk-container-id-4 input.sk-hidden--visually {border: 0;clip: rect(1px 1px 1px 1px);clip: rect(1px, 1px, 1px, 1px);height: 1px;margin: -1px;overflow: hidden;padding: 0;position: absolute;width: 1px;}#sk-container-id-4 div.sk-estimator {font-family: monospace;background-color: #f0f8ff;border: 1px dotted black;border-radius: 0.25em;box-sizing: border-box;margin-bottom: 0.5em;}#sk-container-id-4 div.sk-estimator:hover {background-color: #d4ebff;}#sk-container-id-4 div.sk-parallel-item::after {content: \"\";width: 100%;border-bottom: 1px solid gray;flex-grow: 1;}#sk-container-id-4 div.sk-label:hover label.sk-toggleable__label {background-color: #d4ebff;}#sk-container-id-4 div.sk-serial::before {content: \"\";position: absolute;border-left: 1px solid gray;box-sizing: border-box;top: 0;bottom: 0;left: 50%;z-index: 0;}#sk-container-id-4 div.sk-serial {display: flex;flex-direction: column;align-items: center;background-color: white;padding-right: 0.2em;padding-left: 0.2em;position: relative;}#sk-container-id-4 div.sk-item {position: relative;z-index: 1;}#sk-container-id-4 div.sk-parallel {display: flex;align-items: stretch;justify-content: center;background-color: white;position: relative;}#sk-container-id-4 div.sk-item::before, #sk-container-id-4 div.sk-parallel-item::before {content: \"\";position: absolute;border-left: 1px solid gray;box-sizing: border-box;top: 0;bottom: 0;left: 50%;z-index: -1;}#sk-container-id-4 div.sk-parallel-item {display: flex;flex-direction: column;z-index: 1;position: relative;background-color: white;}#sk-container-id-4 div.sk-parallel-item:first-child::after {align-self: flex-end;width: 50%;}#sk-container-id-4 div.sk-parallel-item:last-child::after {align-self: flex-start;width: 50%;}#sk-container-id-4 div.sk-parallel-item:only-child::after {width: 0;}#sk-container-id-4 div.sk-dashed-wrapped {border: 1px dashed gray;margin: 0 0.4em 0.5em 0.4em;box-sizing: border-box;padding-bottom: 0.4em;background-color: white;}#sk-container-id-4 div.sk-label label {font-family: monospace;font-weight: bold;display: inline-block;line-height: 1.2em;}#sk-container-id-4 div.sk-label-container {text-align: center;}#sk-container-id-4 div.sk-container {/* jupyter's `normalize.less` sets `[hidden] { display: none; }` but bootstrap.min.css set `[hidden] { display: none !important; }` so we also need the `!important` here to be able to override the default hidden behavior on the sphinx rendered scikit-learn.org. See: https://github.com/scikit-learn/scikit-learn/issues/21755 */display: inline-block !important;position: relative;}#sk-container-id-4 div.sk-text-repr-fallback {display: none;}</style><div id=\"sk-container-id-4\" class=\"sk-top-container\"><div class=\"sk-text-repr-fallback\"><pre>RandomForestRegressor(n_estimators=50, random_state=42)</pre><b>In a Jupyter environment, please rerun this cell to show the HTML representation or trust the notebook. <br />On GitHub, the HTML representation is unable to render, please try loading this page with nbviewer.org.</b></div><div class=\"sk-container\" hidden><div class=\"sk-item\"><div class=\"sk-estimator sk-toggleable\"><input class=\"sk-toggleable__control sk-hidden--visually\" id=\"sk-estimator-id-4\" type=\"checkbox\" checked><label for=\"sk-estimator-id-4\" class=\"sk-toggleable__label sk-toggleable__label-arrow\">RandomForestRegressor</label><div class=\"sk-toggleable__content\"><pre>RandomForestRegressor(n_estimators=50, random_state=42)</pre></div></div></div></div></div>"
      ],
      "text/plain": [
       "RandomForestRegressor(n_estimators=50, random_state=42)"
      ]
     },
     "execution_count": 49,
     "metadata": {},
     "output_type": "execute_result"
    }
   ],
   "source": [
    "model = RandomForestRegressor(n_estimators=50, random_state=42)\n",
    "model.fit(X_train_scaled, y_train)"
   ]
  },
  {
   "cell_type": "code",
   "execution_count": 50,
   "id": "a75e9fd5",
   "metadata": {},
   "outputs": [],
   "source": [
    "predictions = model.predict(X_test_scaled)"
   ]
  },
  {
   "cell_type": "code",
   "execution_count": 53,
   "id": "d3dfc5d1",
   "metadata": {},
   "outputs": [
    {
     "name": "stdout",
     "output_type": "stream",
     "text": [
      "[226. 266. 254. ... 228. 253. 262.]\n"
     ]
    }
   ],
   "source": [
    "print(predictions)"
   ]
  },
  {
   "cell_type": "code",
   "execution_count": 54,
   "id": "5decab4d",
   "metadata": {},
   "outputs": [
    {
     "name": "stdout",
     "output_type": "stream",
     "text": [
      "2308     226\n",
      "22404    266\n",
      "23397    254\n",
      "25058    255\n",
      "2664     238\n",
      "        ... \n",
      "3941     249\n",
      "17854    248\n",
      "95       228\n",
      "6279     253\n",
      "26428    262\n",
      "Name: count_of_transactions, Length: 9000, dtype: int64\n"
     ]
    }
   ],
   "source": [
    "print(y_test)"
   ]
  },
  {
   "cell_type": "code",
   "execution_count": 51,
   "id": "d68da038",
   "metadata": {},
   "outputs": [],
   "source": [
    "mse = mean_squared_error(y_test, predictions)\n",
    "mae = mean_absolute_error(y_test, predictions)\n",
    "rmse = mean_squared_error(y_test, predictions, squared=False)"
   ]
  },
  {
   "cell_type": "code",
   "execution_count": 52,
   "id": "d0fef48e",
   "metadata": {},
   "outputs": [
    {
     "name": "stdout",
     "output_type": "stream",
     "text": [
      "Mean Squared Error: 0.0\n",
      "Mean Absolute Error: 0.0\n",
      "Root Mean Squared Error: 0.0\n"
     ]
    }
   ],
   "source": [
    "print(\"Mean Squared Error:\", mse)\n",
    "print(\"Mean Absolute Error:\", mae)\n",
    "print(\"Root Mean Squared Error:\", rmse)"
   ]
  },
  {
   "cell_type": "code",
   "execution_count": 39,
   "id": "40ef7dda",
   "metadata": {},
   "outputs": [
    {
     "name": "stdout",
     "output_type": "stream",
     "text": [
      "[226. 266. 254. ... 228. 253. 262.]\n"
     ]
    }
   ],
   "source": [
    "print(predictions)"
   ]
  },
  {
   "cell_type": "code",
   "execution_count": 40,
   "id": "cf6b3954",
   "metadata": {},
   "outputs": [
    {
     "name": "stdout",
     "output_type": "stream",
     "text": [
      "2308     226\n",
      "22404    266\n",
      "23397    254\n",
      "25058    255\n",
      "2664     238\n",
      "        ... \n",
      "3941     249\n",
      "17854    248\n",
      "95       228\n",
      "6279     253\n",
      "26428    262\n",
      "Name: count_of_transactions, Length: 9000, dtype: int64\n"
     ]
    }
   ],
   "source": [
    "print(y_test)"
   ]
  },
  {
   "cell_type": "code",
   "execution_count": 17,
   "id": "adffa69f",
   "metadata": {},
   "outputs": [],
   "source": [
    "# label:Company_id\n",
    "#     0-1608\n",
    "#     1-1905\n",
    "#     2-2077\n",
    "#     3-2605\n",
    "#     4-3209\n",
    "#     5-3780\n",
    "#     6-5805\n",
    "#     7-7300\n",
    "#     8-7448\n",
    "#     9-8424"
   ]
  },
  {
   "cell_type": "code",
   "execution_count": 18,
   "id": "47039e8c",
   "metadata": {},
   "outputs": [],
   "source": [
    "new_data = pd.DataFrame({\n",
    "    'fin_company_id ': [1905],\n",
    "    'fin_month': [1],  # Example month (February)\n",
    "})"
   ]
  },
  {
   "cell_type": "code",
   "execution_count": 19,
   "id": "e4d0b4c1",
   "metadata": {},
   "outputs": [],
   "source": [
    "#Encode and scale the new data\n",
    "new_data['fin_company_id '] = label_encoder.transform(new_data['fin_company_id '])\n",
    "new_data_scaled = scaler.transform(new_data)"
   ]
  },
  {
   "cell_type": "code",
   "execution_count": 20,
   "id": "aa0f32aa",
   "metadata": {},
   "outputs": [
    {
     "name": "stdout",
     "output_type": "stream",
     "text": [
      "Predicted Count of Transactions: 267.0\n"
     ]
    }
   ],
   "source": [
    "#Make prediction for the new data\n",
    "new_prediction = model.predict(new_data_scaled)\n",
    "print(\"Predicted Count of Transactions:\", new_prediction[0])"
   ]
  },
  {
   "cell_type": "code",
   "execution_count": null,
   "id": "5a0da4fa",
   "metadata": {},
   "outputs": [],
   "source": []
  },
  {
   "cell_type": "code",
   "execution_count": 21,
   "id": "918b5ef8",
   "metadata": {},
   "outputs": [],
   "source": [
    "df1 = df[['fin_company_id ','fin_month','count_of_transactions']]"
   ]
  },
  {
   "cell_type": "code",
   "execution_count": 22,
   "id": "b5a422be",
   "metadata": {},
   "outputs": [
    {
     "data": {
      "text/plain": [
       "(30000, 3)"
      ]
     },
     "execution_count": 22,
     "metadata": {},
     "output_type": "execute_result"
    }
   ],
   "source": [
    "df1.shape"
   ]
  },
  {
   "cell_type": "code",
   "execution_count": 23,
   "id": "fd203bab",
   "metadata": {},
   "outputs": [],
   "source": [
    "df1 = df1.drop_duplicates(subset=['fin_company_id ', 'fin_month','count_of_transactions'])"
   ]
  },
  {
   "cell_type": "code",
   "execution_count": 24,
   "id": "4346c89f",
   "metadata": {},
   "outputs": [],
   "source": [
    "df_final = df1.sort_values(['fin_month','fin_company_id '])"
   ]
  },
  {
   "cell_type": "code",
   "execution_count": 25,
   "id": "10a8aad1",
   "metadata": {},
   "outputs": [
    {
     "data": {
      "text/html": [
       "<div>\n",
       "<style scoped>\n",
       "    .dataframe tbody tr th:only-of-type {\n",
       "        vertical-align: middle;\n",
       "    }\n",
       "\n",
       "    .dataframe tbody tr th {\n",
       "        vertical-align: top;\n",
       "    }\n",
       "\n",
       "    .dataframe thead th {\n",
       "        text-align: right;\n",
       "    }\n",
       "</style>\n",
       "<table border=\"1\" class=\"dataframe\">\n",
       "  <thead>\n",
       "    <tr style=\"text-align: right;\">\n",
       "      <th></th>\n",
       "      <th>fin_company_id</th>\n",
       "      <th>fin_month</th>\n",
       "      <th>count_of_transactions</th>\n",
       "    </tr>\n",
       "  </thead>\n",
       "  <tbody>\n",
       "    <tr>\n",
       "      <th>38</th>\n",
       "      <td>0</td>\n",
       "      <td>1</td>\n",
       "      <td>234</td>\n",
       "    </tr>\n",
       "    <tr>\n",
       "      <th>120</th>\n",
       "      <td>1</td>\n",
       "      <td>1</td>\n",
       "      <td>267</td>\n",
       "    </tr>\n",
       "    <tr>\n",
       "      <th>12</th>\n",
       "      <td>2</td>\n",
       "      <td>1</td>\n",
       "      <td>245</td>\n",
       "    </tr>\n",
       "    <tr>\n",
       "      <th>36</th>\n",
       "      <td>3</td>\n",
       "      <td>1</td>\n",
       "      <td>268</td>\n",
       "    </tr>\n",
       "    <tr>\n",
       "      <th>246</th>\n",
       "      <td>4</td>\n",
       "      <td>1</td>\n",
       "      <td>256</td>\n",
       "    </tr>\n",
       "  </tbody>\n",
       "</table>\n",
       "</div>"
      ],
      "text/plain": [
       "     fin_company_id   fin_month  count_of_transactions\n",
       "38                 0          1                    234\n",
       "120                1          1                    267\n",
       "12                 2          1                    245\n",
       "36                 3          1                    268\n",
       "246                4          1                    256"
      ]
     },
     "execution_count": 25,
     "metadata": {},
     "output_type": "execute_result"
    }
   ],
   "source": [
    "df_final.head()"
   ]
  },
  {
   "cell_type": "code",
   "execution_count": 26,
   "id": "6cc2c24e",
   "metadata": {},
   "outputs": [],
   "source": [
    "def find_value(cmp_id,month):\n",
    "    return df_final[(df_final['fin_month'] == month) & (cmp_id == (df['fin_company_id ']))]['count_of_transactions']"
   ]
  },
  {
   "cell_type": "code",
   "execution_count": 27,
   "id": "391145b0",
   "metadata": {},
   "outputs": [
    {
     "name": "stdout",
     "output_type": "stream",
     "text": [
      "120    267\n",
      "Name: count_of_transactions, dtype: int64\n"
     ]
    },
    {
     "name": "stderr",
     "output_type": "stream",
     "text": [
      "D:\\Users\\vtpavithra\\AppData\\Local\\Temp\\ipykernel_13620\\2056096498.py:2: UserWarning: Boolean Series key will be reindexed to match DataFrame index.\n",
      "  return df_final[(df_final['fin_month'] == month) & (cmp_id == (df['fin_company_id ']))]['count_of_transactions']\n"
     ]
    }
   ],
   "source": [
    "print(find_value(1,1))"
   ]
  },
  {
   "cell_type": "code",
   "execution_count": null,
   "id": "9f7304ae",
   "metadata": {},
   "outputs": [],
   "source": []
  },
  {
   "cell_type": "code",
   "execution_count": null,
   "id": "54447187",
   "metadata": {},
   "outputs": [],
   "source": []
  },
  {
   "cell_type": "code",
   "execution_count": null,
   "id": "6947e38b",
   "metadata": {},
   "outputs": [],
   "source": []
  },
  {
   "cell_type": "code",
   "execution_count": 28,
   "id": "b37bf0a9",
   "metadata": {},
   "outputs": [],
   "source": [
    "# import pandas as pd\n",
    "# from sklearn.model_selection import train_test_split\n",
    "# from sklearn.linear_model import LinearRegression\n",
    "# from sklearn.metrics import mean_squared_error, mean_absolute_error\n",
    "# from sklearn.preprocessing import StandardScaler, LabelEncoder\n",
    "\n",
    "# # Load the dataset\n",
    "# df = pd.read_csv('your_dataset.csv')\n",
    "\n",
    "# # Encode categorical variables\n",
    "# label_encoder = LabelEncoder()\n",
    "# df['fin_company_id'] = label_encoder.fit_transform(df['fin_company_id'])\n",
    "# # Assuming fin_date is in datetime format, extract month\n",
    "# df['fin_month'] = df['fin_date'].dt.month\n",
    "\n",
    "# # Define features and target\n",
    "# X = df[['fin_company_id', 'fin_month', 'fin_account_number']]\n",
    "# y = df['count_of_transactions']\n",
    "\n",
    "# # Split the data into training and testing sets\n",
    "# X_train, X_test, y_train, y_test = train_test_split(X, y, test_size=0.2, random_state=42)\n",
    "\n",
    "# # Scale the features\n",
    "# scaler = StandardScaler()\n",
    "# X_train_scaled = scaler.fit_transform(X_train)\n",
    "# X_test_scaled = scaler.transform(X_test)\n",
    "\n",
    "# # Initialize and train the model\n",
    "# model = LinearRegression()\n",
    "# model.fit(X_train_scaled, y_train)\n",
    "\n",
    "# # Make predictions\n",
    "# predictions = model.predict(X_test_scaled)\n",
    "\n",
    "# # Evaluate the model\n",
    "# mse = mean_squared_error(y_test, predictions)\n",
    "# mae = mean_absolute_error(y_test, predictions)\n",
    "# rmse = mean_squared_error(y_test, predictions, squared=False)\n",
    "\n",
    "# print(\"Mean Squared Error:\", mse)\n",
    "# print(\"Mean Absolute Error:\", mae)\n",
    "# print(\"Root Mean Squared Error:\", rmse)\n",
    "\n",
    "# # Example of making a prediction for new data\n",
    "# new_data = pd.DataFrame({\n",
    "#     'fin_company_id': [122343],\n",
    "#     'fin_month': [2],  # Example month (February)\n",
    "#     'fin_account_number': ['your_value']\n",
    "# })\n",
    "\n",
    "# # Encode and scale the new data\n",
    "# new_data['fin_company_id'] = label_encoder.transform(new_data['fin_company_id'])\n",
    "# new_data_scaled = scaler.transform(new_data)\n",
    "\n",
    "# # Make prediction for the new data\n",
    "# new_prediction = model.predict(new_data_scaled)\n",
    "# print(\"Predicted Count of Transactions:\", new_prediction[0])"
   ]
  }
 ],
 "metadata": {
  "kernelspec": {
   "display_name": "Python 3 (ipykernel)",
   "language": "python",
   "name": "python3"
  },
  "language_info": {
   "codemirror_mode": {
    "name": "ipython",
    "version": 3
   },
   "file_extension": ".py",
   "mimetype": "text/x-python",
   "name": "python",
   "nbconvert_exporter": "python",
   "pygments_lexer": "ipython3",
   "version": "3.11.5"
  }
 },
 "nbformat": 4,
 "nbformat_minor": 5
}
